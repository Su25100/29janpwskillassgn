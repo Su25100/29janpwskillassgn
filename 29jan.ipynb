{
 "cells": [
  {
   "cell_type": "code",
   "execution_count": 1,
   "id": "8ea724f4-4de7-4b5e-b9f7-b798bc9d0d5e",
   "metadata": {},
   "outputs": [
    {
     "data": {
      "text/plain": [
       "'Guido Van Rossum'"
      ]
     },
     "execution_count": 1,
     "metadata": {},
     "output_type": "execute_result"
    }
   ],
   "source": [
    "#q1\n",
    "\"\"\"Guido Van Rossum\"\"\""
   ]
  },
  {
   "cell_type": "code",
   "execution_count": 2,
   "id": "3255fafe-5b2b-4cb7-8d3e-8db685a91e4d",
   "metadata": {},
   "outputs": [
    {
     "data": {
      "text/plain": [
       "'Object-Oriented programming'"
      ]
     },
     "execution_count": 2,
     "metadata": {},
     "output_type": "execute_result"
    }
   ],
   "source": [
    "#q2\n",
    "\"\"\"Object-Oriented programming\"\"\""
   ]
  },
  {
   "cell_type": "code",
   "execution_count": 3,
   "id": "2e12024c-6346-4941-92fd-945dd623b88b",
   "metadata": {},
   "outputs": [
    {
     "data": {
      "text/plain": [
       "'yes it is a case sensitive language thus treats upper and lower case characters differently.'"
      ]
     },
     "execution_count": 3,
     "metadata": {},
     "output_type": "execute_result"
    }
   ],
   "source": [
    "#q3\n",
    "\"\"\"yes it is a case sensitive language thus treats upper and lower case characters differently.\"\"\""
   ]
  },
  {
   "cell_type": "code",
   "execution_count": 4,
   "id": "0ce769f8-d35b-46a9-a5c8-a5d9bcf86582",
   "metadata": {},
   "outputs": [
    {
     "data": {
      "text/plain": [
       "'.py'"
      ]
     },
     "execution_count": 4,
     "metadata": {},
     "output_type": "execute_result"
    }
   ],
   "source": [
    "#q4\n",
    "\"\"\".py\"\"\""
   ]
  },
  {
   "cell_type": "code",
   "execution_count": 5,
   "id": "b0ee034d-e41c-4545-a890-ca17e2758647",
   "metadata": {},
   "outputs": [
    {
     "data": {
      "text/plain": [
       "'Python is a interpreted language that means \\nWhen you run a Python program, the interpreter first compiles the source code into bytecode and then executes it.'"
      ]
     },
     "execution_count": 5,
     "metadata": {},
     "output_type": "execute_result"
    }
   ],
   "source": [
    "#q5\n",
    "\"\"\"Python is a interpreted language that means \n",
    "When you run a Python program, the interpreter first compiles the source code into bytecode and then executes it.\"\"\""
   ]
  },
  {
   "cell_type": "code",
   "execution_count": 1,
   "id": "352d2d40-f073-46b5-83e3-1d2aad4d6480",
   "metadata": {},
   "outputs": [
    {
     "data": {
      "text/plain": [
       "'1.conditional statement\\n   2.Loop statement\\n   3.Function definition\\n   4.list comprehension\\n   5.Exception handling'"
      ]
     },
     "execution_count": 1,
     "metadata": {},
     "output_type": "execute_result"
    }
   ],
   "source": [
    "#q6\n",
    "\"\"\"1.conditional statement\n",
    "   2.Loop statement\n",
    "   3.Function definition\n",
    "   4.list comprehension\n",
    "   5.Exception handling\"\"\""
   ]
  },
  {
   "cell_type": "code",
   "execution_count": 3,
   "id": "ee1a81c3-6e31-4938-8726-01f34c283da3",
   "metadata": {},
   "outputs": [
    {
     "data": {
      "text/plain": [
       "'hash symbol'"
      ]
     },
     "execution_count": 3,
     "metadata": {},
     "output_type": "execute_result"
    }
   ],
   "source": [
    "#q7 \n",
    "\"hash symbol\""
   ]
  },
  {
   "cell_type": "code",
   "execution_count": 1,
   "id": "84b89793-3417-493f-99c4-444b4a97cc36",
   "metadata": {},
   "outputs": [
    {
     "data": {
      "text/plain": [
       "'sys.version , ini , python , sys.version_info , etc..'"
      ]
     },
     "execution_count": 1,
     "metadata": {},
     "output_type": "execute_result"
    }
   ],
   "source": [
    "#q8 \n",
    "\"\"\"sys.version , ini , python , sys.version_info , etc..\"\"\" "
   ]
  },
  {
   "cell_type": "code",
   "execution_count": 2,
   "id": "bd3391e0-099a-4018-b96d-e02cc3c9f13d",
   "metadata": {},
   "outputs": [
    {
     "data": {
      "text/plain": [
       "' lambda function'"
      ]
     },
     "execution_count": 2,
     "metadata": {},
     "output_type": "execute_result"
    }
   ],
   "source": [
    "#q9\n",
    "\"\"\" lambda function\"\"\""
   ]
  },
  {
   "cell_type": "code",
   "execution_count": 3,
   "id": "95eb01ed-b465-4f8f-8938-9933c442deef",
   "metadata": {},
   "outputs": [
    {
     "data": {
      "text/plain": [
       "\"pip stands for python install packages .  It allows you to install and manage packages that aren't part of the Python standard library.\""
      ]
     },
     "execution_count": 3,
     "metadata": {},
     "output_type": "execute_result"
    }
   ],
   "source": [
    "#q10 \n",
    "\"\"\"pip stands for python install packages .  It allows you to install and manage packages that aren't part of the Python standard library.\"\"\""
   ]
  },
  {
   "cell_type": "code",
   "execution_count": 4,
   "id": "fb3af701-4823-47f1-a204-a9473533617c",
   "metadata": {},
   "outputs": [
    {
     "data": {
      "text/plain": [
       "'print(): This function is used to display output on the console.\\n  len(): It returns the length of a given object such as a string, list, tuple, or dictionary.\\n  type(): It returns the type of an object.\\n  input(): It allows the user to enter input from the console...etc'"
      ]
     },
     "execution_count": 4,
     "metadata": {},
     "output_type": "execute_result"
    }
   ],
   "source": [
    "#q11  (few built-in functions) \n",
    "\"\"\"print(): This function is used to display output on the console.\n",
    "  len(): It returns the length of a given object such as a string, list, tuple, or dictionary.\n",
    "  type(): It returns the type of an object.\n",
    "  input(): It allows the user to enter input from the console...etc\"\"\""
   ]
  },
  {
   "cell_type": "code",
   "execution_count": 5,
   "id": "1a3b51e4-d023-4045-816d-68c0180b724a",
   "metadata": {},
   "outputs": [
    {
     "data": {
      "text/plain": [
       "'79 characters max possible length of an identifier '"
      ]
     },
     "execution_count": 5,
     "metadata": {},
     "output_type": "execute_result"
    }
   ],
   "source": [
    "#q12  \n",
    "\"\"\"79 characters max possible length of an identifier \"\"\""
   ]
  },
  {
   "cell_type": "code",
   "execution_count": 6,
   "id": "2fb2a7e2-b110-455c-915c-b91526e38d29",
   "metadata": {},
   "outputs": [
    {
     "data": {
      "text/plain": [
       "'benefits of using python :\\n1.Easy to Learn and Read\\n2.Wide Range of Applications\\n3.Large and Active Community\\n4.Extensive Library Support '"
      ]
     },
     "execution_count": 6,
     "metadata": {},
     "output_type": "execute_result"
    }
   ],
   "source": [
    "#q13 \n",
    "\"\"\"benefits of using python :\n",
    "1.Easy to Learn and Read\n",
    "2.Wide Range of Applications\n",
    "3.Large and Active Community\n",
    "4.Extensive Library Support \"\"\""
   ]
  },
  {
   "cell_type": "code",
   "execution_count": 7,
   "id": "5057420a-16f7-4d40-9585-c94c8b02cc0c",
   "metadata": {},
   "outputs": [
    {
     "data": {
      "text/plain": [
       "'In Python, memory management is handled automatically through a mechanism called garbage collection.Garbage collection is responsible for identifying and reclaiming memory that is no longer in use by the program, freeing it up for future allocation.'"
      ]
     },
     "execution_count": 7,
     "metadata": {},
     "output_type": "execute_result"
    }
   ],
   "source": [
    "#q14\n",
    "\"\"\"In Python, memory management is handled automatically through a mechanism called garbage collection.Garbage collection is responsible for identifying and reclaiming memory that is no longer in use by the program, freeing it up for future allocation.\"\"\""
   ]
  },
  {
   "cell_type": "code",
   "execution_count": 8,
   "id": "6b7801ec-61a4-4bd9-a895-9dd1449e99bf",
   "metadata": {},
   "outputs": [
    {
     "data": {
      "text/plain": [
       "'1. Visit the official Python website:https://www.python.org/downloads/ and go to the downloads page.\\n   2.  Choose the version of Python you want to install.\\n   3.Scroll down to the files section and select the Windows installer corresponding to your system architecture .\\n   4.Once the installer file is downloaded, double-click on it to launch the Python installer.\\n   5.In the Python installer, make sure to check the box that says \"Add Python to PATH\". This will automatically set up the path variable for you.\\n   6.Click on the \"Install Now\" button to start the installation process.\\n   7.After the installation completes, open the Command Prompt by pressing the Windows key and searching for \"Command Prompt\".\\n   8.In the Command Prompt, type python --version and press Enter. You should see the Python version number printed, which confirms that Python is installed correctly.\\n\\n9.To verify that the path variable is set correctly, type python and press Enter. The Python interactive shell should start, indicating that Python is accessible from any directory.'"
      ]
     },
     "execution_count": 8,
     "metadata": {},
     "output_type": "execute_result"
    }
   ],
   "source": [
    "#q15\n",
    "\"\"\"1. Visit the official Python website:https://www.python.org/downloads/ and go to the downloads page.\n",
    "   2.  Choose the version of Python you want to install.\n",
    "   3.Scroll down to the files section and select the Windows installer corresponding to your system architecture .\n",
    "   4.Once the installer file is downloaded, double-click on it to launch the Python installer.\n",
    "   5.In the Python installer, make sure to check the box that says \"Add Python to PATH\". This will automatically set up the path variable for you.\n",
    "   6.Click on the \"Install Now\" button to start the installation process.\n",
    "   7.After the installation completes, open the Command Prompt by pressing the Windows key and searching for \"Command Prompt\".\n",
    "   8.In the Command Prompt, type python --version and press Enter. You should see the Python version number printed, which confirms that Python is installed correctly.\n",
    "\n",
    "9.To verify that the path variable is set correctly, type python and press Enter. The Python interactive shell should start, indicating that Python is accessible from any directory.\"\"\""
   ]
  },
  {
   "cell_type": "code",
   "execution_count": null,
   "id": "9c464941-386d-4bb4-9956-de03c7f7a332",
   "metadata": {},
   "outputs": [],
   "source": [
    "#q16 \n",
    "\"\"\"yes..identation is how you determine scopeScope is how Python knows what code belongs to what part of the program."
   ]
  }
 ],
 "metadata": {
  "kernelspec": {
   "display_name": "Python 3 (ipykernel)",
   "language": "python",
   "name": "python3"
  },
  "language_info": {
   "codemirror_mode": {
    "name": "ipython",
    "version": 3
   },
   "file_extension": ".py",
   "mimetype": "text/x-python",
   "name": "python",
   "nbconvert_exporter": "python",
   "pygments_lexer": "ipython3",
   "version": "3.10.8"
  }
 },
 "nbformat": 4,
 "nbformat_minor": 5
}
